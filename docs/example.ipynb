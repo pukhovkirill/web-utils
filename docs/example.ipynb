{
 "cells": [
  {
   "metadata": {},
   "cell_type": "markdown",
   "source": [
    "# **Examples**\n",
    "**Here are usage examples for each major module in plain text—just copy and paste into your own script.**"
   ],
   "id": "465b92388d30ba4e"
  },
  {
   "metadata": {},
   "cell_type": "markdown",
   "source": "## Format Conversion (JSON ↔ XML ↔ CSV ↔ YAML)",
   "id": "cebcc911d7f884d6"
  },
  {
   "metadata": {
    "ExecuteTime": {
     "end_time": "2025-05-28T16:46:49.269592Z",
     "start_time": "2025-05-28T16:46:49.250122Z"
    }
   },
   "cell_type": "code",
   "source": [
    "from typing import List, Dict, Any\n",
    "from webutils.converter.csv import CsvConverter\n",
    "from webutils.converter.json import JsonConverter\n",
    "from webutils.converter.xml import XmlConverter\n",
    "from webutils.converter.yaml import YamlConverter\n",
    "\n",
    "print(\"\\n=== Format Conversion Example ===\")\n",
    "\n",
    "# 1. Initialize one converter instance per supported format\n",
    "converters: Dict[str, Any] = {\n",
    "    \"json\": JsonConverter(),\n",
    "    \"xml\":  XmlConverter(),\n",
    "    \"csv\":  CsvConverter(),\n",
    "    \"yaml\": YamlConverter()\n",
    "}\n",
    "\n",
    "# 2. Test input strings for each format\n",
    "#    - JSON and XML are nested structures\n",
    "#    - YAML uses indentation for structure\n",
    "#    - CSV uses ';' to separate list items in one column\n",
    "inputs: Dict[str, str] = {\n",
    "    \"json\": (\n",
    "        '{ \"user1\": { \"name\": \"Alice\", \"age\": 30, \"skills\": [ \"Python\", \"C++\" ] },'\n",
    "        '\"user2\": { \"name\": \"Kirill\", \"age\": 22, \"skills\": [ \"Java\", \"C\", \"C++\" ] } }'\n",
    "    ),\n",
    "    \"xml\": \"\"\"\n",
    "<root>\n",
    "  <user1>\n",
    "    <name>Alice</name>\n",
    "    <age>30</age>\n",
    "    <skills>\n",
    "      <item>Python</item>\n",
    "      <item>C++</item>\n",
    "    </skills>\n",
    "  </user1>\n",
    "  <user2>\n",
    "    <name>Kirill</name>\n",
    "    <age>22</age>\n",
    "    <skills>\n",
    "      <item>Java</item>\n",
    "      <item>C</item>\n",
    "      <item>C++</item>\n",
    "    </skills>\n",
    "  </user2>\n",
    "</root>\n",
    "\"\"\",\n",
    "    \"yaml\": \"\"\"\n",
    "user1:\n",
    "  name: Alice\n",
    "  age: 30\n",
    "  skills:\n",
    "    - Python\n",
    "    - C++\n",
    "user2:\n",
    "  name: Kirill\n",
    "  age: 22\n",
    "  skills:\n",
    "    - Java\n",
    "    - C\n",
    "    - C++\n",
    "\"\"\",\n",
    "    \"csv\": \"\"\"id,name,age,skills\n",
    "1,Alice,30,Python;C++\n",
    "2,Kirill,22,Java;C;C++\"\"\"\n",
    "}\n",
    "\n",
    "def convert_and_display(source_format: str) -> None:\n",
    "    \"\"\"\n",
    "    Parse data from source_format into an intermediate AST,\n",
    "    then convert that AST into every other target format\n",
    "    and print the results.\n",
    "    \"\"\"\n",
    "    print(f\"\\n========== SOURCE FORMAT: {source_format.upper()} ==========\")\n",
    "    source_converter = converters[source_format]\n",
    "    source_text = inputs[source_format]\n",
    "\n",
    "    # 3. Show the raw input for clarity\n",
    "    print(source_text)\n",
    "\n",
    "    # 4. Attempt to parse into AST\n",
    "    try:\n",
    "        ast = source_converter.parse(source_text)\n",
    "        print(f\"\\nParsed AST from {source_format.upper()}\")\n",
    "    except Exception as e:\n",
    "        print(f\"Error parsing {source_format}: {e}\")\n",
    "        return\n",
    "\n",
    "    # 5. Convert the AST into each of the other formats\n",
    "    for target_format, target_converter in converters.items():\n",
    "        if target_format == source_format:\n",
    "            # Skip converting back to the same format\n",
    "            continue\n",
    "\n",
    "        print(f\"\\n--- Converting AST to {target_format.upper()} ---\")\n",
    "        try:\n",
    "            converted_text = target_converter.read(ast)\n",
    "            print(converted_text)\n",
    "        except Exception as e:\n",
    "            print(f\"Error converting to {target_format}: {e}\")\n",
    "\n",
    "# 6. Run the conversion for each format in turn\n",
    "for fmt in converters.keys():\n",
    "    convert_and_display(fmt)\n"
   ],
   "id": "56d6e8879afc9092",
   "outputs": [
    {
     "name": "stdout",
     "output_type": "stream",
     "text": [
      "\n",
      "========== SOURCE FORMAT: JSON ==========\n",
      "{ \"user1\": { \"name\": \"Alice\", \"age\": 30, \"skills\": [ \"Python\", \"C++\" ] },               \"user2\": { \"name\": \"Kirill\", \"age\": 22, \"skills\": [ \"Java\", \"C\", \"C++\" ] } }\n",
      "\n",
      "Parsed AST from JSON\n",
      "\n",
      "--- Converting AST to XML ---\n",
      "<?xml version=\"1.0\" encoding=\"utf-8\"?>\n",
      "<root>\n",
      "\t<user1>\n",
      "\t\t<name>Alice</name>\n",
      "\t\t<age>30</age>\n",
      "\t\t<skills>Python</skills>\n",
      "\t\t<skills>C++</skills>\n",
      "\t</user1>\n",
      "\t<user2>\n",
      "\t\t<name>Kirill</name>\n",
      "\t\t<age>22</age>\n",
      "\t\t<skills>Java</skills>\n",
      "\t\t<skills>C</skills>\n",
      "\t\t<skills>C++</skills>\n",
      "\t</user2>\n",
      "</root>\n",
      "\n",
      "--- Converting AST to CSV ---\n",
      "Error converting to csv: For CSV, a non-empty list of dicts is expected\n",
      "\n",
      "--- Converting AST to YAML ---\n",
      "user1:\n",
      "  age: 30\n",
      "  name: Alice\n",
      "  skills:\n",
      "  - Python\n",
      "  - C++\n",
      "user2:\n",
      "  age: 22\n",
      "  name: Kirill\n",
      "  skills:\n",
      "  - Java\n",
      "  - C\n",
      "  - C++\n",
      "\n",
      "\n",
      "========== SOURCE FORMAT: XML ==========\n",
      "<root>\n",
      "  <user1>\n",
      "    <name>Alice</name>\n",
      "    <age>30</age>\n",
      "    <skills>\n",
      "      <item>Python</item>\n",
      "      <item>C++</item>\n",
      "    </skills>\n",
      "  </user1>\n",
      "  <user2>\n",
      "    <name>Kirill</name>\n",
      "    <age>22</age>\n",
      "    <skills>\n",
      "      <item>Java</item>\n",
      "      <item>C</item>\n",
      "      <item>C++</item>\n",
      "    </skills>\n",
      "  </user2>\n",
      "</root>\n",
      "\n",
      "Parsed AST from XML\n",
      "\n",
      "--- Converting AST to JSON ---\n",
      "{\n",
      "  \"root\": {\n",
      "    \"user1\": {\n",
      "      \"name\": \"Alice\",\n",
      "      \"age\": \"30\",\n",
      "      \"skills\": {\n",
      "        \"item\": [\n",
      "          \"Python\",\n",
      "          \"C++\"\n",
      "        ]\n",
      "      }\n",
      "    },\n",
      "    \"user2\": {\n",
      "      \"name\": \"Kirill\",\n",
      "      \"age\": \"22\",\n",
      "      \"skills\": {\n",
      "        \"item\": [\n",
      "          \"Java\",\n",
      "          \"C\",\n",
      "          \"C++\"\n",
      "        ]\n",
      "      }\n",
      "    }\n",
      "  }\n",
      "}\n",
      "\n",
      "--- Converting AST to CSV ---\n",
      "Error converting to csv: For CSV, a non-empty list of dicts is expected\n",
      "\n",
      "--- Converting AST to YAML ---\n",
      "root:\n",
      "  user1:\n",
      "    age: '30'\n",
      "    name: Alice\n",
      "    skills:\n",
      "      item:\n",
      "      - Python\n",
      "      - C++\n",
      "  user2:\n",
      "    age: '22'\n",
      "    name: Kirill\n",
      "    skills:\n",
      "      item:\n",
      "      - Java\n",
      "      - C\n",
      "      - C++\n",
      "\n",
      "\n",
      "========== SOURCE FORMAT: CSV ==========\n",
      "id,name,age,skills\n",
      "1,Alice,30,Python;C++\n",
      "2,Kirill,22,Java;C;C++\n",
      "\n",
      "Parsed AST from CSV\n",
      "\n",
      "--- Converting AST to JSON ---\n",
      "[\n",
      "  {\n",
      "    \"id\": \"1\",\n",
      "    \"name\": \"Alice\",\n",
      "    \"age\": \"30\",\n",
      "    \"skills\": \"Python;C++\"\n",
      "  },\n",
      "  {\n",
      "    \"id\": \"2\",\n",
      "    \"name\": \"Kirill\",\n",
      "    \"age\": \"22\",\n",
      "    \"skills\": \"Java;C;C++\"\n",
      "  }\n",
      "]\n",
      "\n",
      "--- Converting AST to XML ---\n",
      "Error converting to xml: document with multiple roots\n",
      "\n",
      "--- Converting AST to YAML ---\n",
      "- age: '30'\n",
      "  id: '1'\n",
      "  name: Alice\n",
      "  skills: Python;C++\n",
      "- age: '22'\n",
      "  id: '2'\n",
      "  name: Kirill\n",
      "  skills: Java;C;C++\n",
      "\n",
      "\n",
      "========== SOURCE FORMAT: YAML ==========\n",
      "\n",
      "user1:\n",
      "  name: Alice\n",
      "  age: 30\n",
      "  skills:\n",
      "    - Python\n",
      "    - C++\n",
      "user2:\n",
      "  name: Kirill\n",
      "  age: 22\n",
      "  skills:\n",
      "    - Java\n",
      "    - C\n",
      "    - C++\n",
      "\n",
      "\n",
      "Parsed AST from YAML\n",
      "\n",
      "--- Converting AST to JSON ---\n",
      "{\n",
      "  \"user1\": {\n",
      "    \"name\": \"Alice\",\n",
      "    \"age\": 30,\n",
      "    \"skills\": [\n",
      "      \"Python\",\n",
      "      \"C++\"\n",
      "    ]\n",
      "  },\n",
      "  \"user2\": {\n",
      "    \"name\": \"Kirill\",\n",
      "    \"age\": 22,\n",
      "    \"skills\": [\n",
      "      \"Java\",\n",
      "      \"C\",\n",
      "      \"C++\"\n",
      "    ]\n",
      "  }\n",
      "}\n",
      "\n",
      "--- Converting AST to XML ---\n",
      "<?xml version=\"1.0\" encoding=\"utf-8\"?>\n",
      "<root>\n",
      "\t<user1>\n",
      "\t\t<name>Alice</name>\n",
      "\t\t<age>30</age>\n",
      "\t\t<skills>Python</skills>\n",
      "\t\t<skills>C++</skills>\n",
      "\t</user1>\n",
      "\t<user2>\n",
      "\t\t<name>Kirill</name>\n",
      "\t\t<age>22</age>\n",
      "\t\t<skills>Java</skills>\n",
      "\t\t<skills>C</skills>\n",
      "\t\t<skills>C++</skills>\n",
      "\t</user2>\n",
      "</root>\n",
      "\n",
      "--- Converting AST to CSV ---\n",
      "Error converting to csv: For CSV, a non-empty list of dicts is expected\n"
     ]
    }
   ],
   "execution_count": 28
  },
  {
   "metadata": {},
   "cell_type": "markdown",
   "source": "",
   "id": "819258d268463c8b"
  },
  {
   "metadata": {},
   "cell_type": "markdown",
   "source": "## Email validator",
   "id": "fb6c9feded36c6e"
  },
  {
   "metadata": {
    "ExecuteTime": {
     "end_time": "2025-05-28T16:46:51.637421Z",
     "start_time": "2025-05-28T16:46:51.627787Z"
    }
   },
   "cell_type": "code",
   "source": [
    "from webutils.email_utils.email_validator import EmailValidator\n",
    "\n",
    "print(\"\\n=== Email Validator Example ===\")\n",
    "\n",
    "# 1. Loose validation\n",
    "#    - checks for presence of '@'\n",
    "#    - ensures local part is non-empty\n",
    "#    - ensures domain contains at least one dot and doesn’t start with a dot\n",
    "validator = EmailValidator(\" user.name@example.com \")\n",
    "print(\"Loose valid?:\", validator.validate_loose())\n",
    "# Expected output: True\n",
    "\n",
    "# 2. Prepare test addresses for strict validation\n",
    "#    - Local part must not start or end with a dot\n",
    "#    - Only allowed characters in both local and domain parts\n",
    "#    - Domain labels must not start with a hyphen\n",
    "#    - Top-level domain (TLD) must be at least two letters\n",
    "test_emails = [\n",
    "    \"john.doe@example.com\",  # valid\n",
    "    \".jane@example.com\",     # invalid: local part starts with a dot\n",
    "    \"bob@example\",           # invalid: missing TLD\n",
    "    \"alice@-example.com\",    # invalid: domain starts with a hyphen\n",
    "]\n",
    "\n",
    "# 3. Strict validation loop\n",
    "for email in test_emails:\n",
    "    v = EmailValidator(email)\n",
    "    is_valid = v.validate_strict()\n",
    "    print(f\"{email:25} strict valid?: {is_valid}\")\n",
    "    # Only True if the address matches the strict regex pattern\n"
   ],
   "id": "ddf71882ee70c3df",
   "outputs": [
    {
     "name": "stdout",
     "output_type": "stream",
     "text": [
      "\n",
      "=== Email Validator Example ===\n",
      "Loose valid?: True\n",
      "john.doe@example.com      strict valid?: True\n",
      ".jane@example.com         strict valid?: False\n",
      "bob@example               strict valid?: False\n",
      "alice@-example.com        strict valid?: False\n"
     ]
    }
   ],
   "execution_count": 29
  },
  {
   "metadata": {},
   "cell_type": "markdown",
   "source": "",
   "id": "52c2505f2a49a7d5"
  },
  {
   "metadata": {},
   "cell_type": "markdown",
   "source": "## Simple email mailer",
   "id": "872e698f63f72aa8"
  },
  {
   "metadata": {
    "ExecuteTime": {
     "end_time": "2025-05-29T10:26:48.893880Z",
     "start_time": "2025-05-29T10:26:48.878327Z"
    }
   },
   "cell_type": "code",
   "source": [
    "from webutils.email_utils import SimpleMailer\n",
    "\n",
    "print(\"\\n=== Simple Email Mailer Example ===\")\n",
    "\n",
    "# 1. Configure your SMTP and IMAP server parameters:\n",
    "SMTP_SERVER = \"smtp.example.com\"  # hostname of your SMTP server\n",
    "SMTP_PORT = 587                   # SMTP port (typically 587 for TLS)\n",
    "IMAP_SERVER = \"imap.example.com\"  # hostname of your IMAP server\n",
    "EMAIL = \"me@example.com\"          # your email address\n",
    "PASSWORD = \"secretpassword\"       # your account password\n",
    "\n",
    "# 2. Initialize the SimpleMailer client with these credentials\n",
    "mailer = SimpleMailer(\n",
    "    smtp_server=SMTP_SERVER,\n",
    "    smtp_port=SMTP_PORT,\n",
    "    imap_server=IMAP_SERVER,\n",
    "    email_address=EMAIL,\n",
    "    password=PASSWORD\n",
    ")  # SimpleMailer handles both SMTP (send) and IMAP (fetch) connections\n",
    "\n",
    "# --- Example 1: Sending an email ---\n",
    "to_addr = \"friend@example.org\"          # recipient address\n",
    "subject = \"Test message\"                # email subject line\n",
    "body = \"Hello!\\nThis is a test email.\"  # plain-text message body\n",
    "\n",
    "try:\n",
    "    mailer.send_email(to_addr, subject, body)  # opens SMTP connection, sends the EmailMessage\n",
    "    print(\"Email sent to\", to_addr)\n",
    "except Exception as e:\n",
    "    print(f\"Error sending email: {e}\")\n",
    "\n",
    "# --- Example 2: Fetching the latest emails ---\n",
    "try:\n",
    "    print(\"\\n=== Latest Emails ===\")\n",
    "    latest_messages = mailer.fetch_latest_emails(mailbox=\"INBOX\", limit=3)\n",
    "    # fetch_latest_emails returns a list of strings formatted as:\n",
    "    # \"From: <sender>\\nSubject: <subject>\\n\\n<body>\"\n",
    "    for msg in latest_messages:\n",
    "        print(\"-----\\n\", msg)\n",
    "except Exception as e:\n",
    "    print(f\"Error fetching latest emails: {e}\")\n"
   ],
   "id": "a7ad8cbb9e2cd2cc",
   "outputs": [
    {
     "name": "stdout",
     "output_type": "stream",
     "text": [
      "\n",
      "=== Simple Email Mailer Example ===\n",
      "Error sending email: Failed to send email: SMTP server address resolution failed: [Errno -2] Name or service not known\n",
      "\n",
      "=== Latest Emails ===\n",
      "Error fetching latest emails: Failed to fetch emails: IMAP server address resolution failed: [Errno -2] Name or service not known\n"
     ]
    }
   ],
   "execution_count": 2
  },
  {
   "metadata": {},
   "cell_type": "markdown",
   "source": "",
   "id": "f7325f25f1d3b136"
  },
  {
   "metadata": {},
   "cell_type": "markdown",
   "source": [
    "## Ping\n",
    "Root priviledges required."
   ],
   "id": "898ef3a77a684b44"
  },
  {
   "metadata": {
    "ExecuteTime": {
     "end_time": "2025-05-28T16:46:59.463785Z",
     "start_time": "2025-05-28T16:46:56.291656Z"
    }
   },
   "cell_type": "code",
   "source": [
    "from webutils.network.icmp.ping import Ping\n",
    "\n",
    "print(\"\\n=== Ping Example ===\")\n",
    "\n",
    "# 1. Initialize the Ping client\n",
    "#    - destination: the host or IP address to ping\n",
    "#    - packet_size: number of data bytes in each ICMP packet\n",
    "#    - timeout:     seconds to wait for each reply before considering it lost\n",
    "pinger = Ping(destination=\"1.1.1.1\", packet_size=128, timeout=1)\n",
    "\n",
    "# 2. Send the echo requests\n",
    "#    - packet_count: total number of ICMP echo requests to send\n",
    "response = pinger.start(packet_count=3)\n",
    "\n",
    "# 3. Print summary statistics\n",
    "print(\"Summary:\")\n",
    "print(f\"  Sent:     {response.transmitted_package_count}\")   # total packets transmitted\n",
    "print(f\"  Received: {response.received_package_count}\")      # total replies received\n",
    "print(f\"  Loss %:   {response.packet_loss_rate:.1f}\")        # percentage of packets lost\n",
    "print(f\"  Total time: {response.time:.0f}µs\")                # total round-trip time in microseconds\n",
    "\n",
    "# 4. If any replies were received, display min/avg/max round-trip times in milliseconds\n",
    "if response.rtt_avg is not None:\n",
    "    print(\n",
    "        f\"  RTT ms:   min={response.rtt_min:.2f}, \"\n",
    "        f\"avg={response.rtt_avg:.2f}, \"\n",
    "        f\"max={response.rtt_max:.2f}\"\n",
    "    )\n",
    "else:\n",
    "    # No replies → cannot compute round-trip statistics\n",
    "    print(\"  No replies received, cannot calculate RTT.\")\n"
   ],
   "id": "88fba664f69bf350",
   "outputs": [
    {
     "name": "stdout",
     "output_type": "stream",
     "text": [
      "\n",
      "=== Ping Example ===\n",
      "Ping 1.1.1.1 [1.1.1.1] with 128-byte packets\n",
      "Reply from 1.1.1.1: seq=0 time=52.51 ms\n",
      "Reply from 1.1.1.1: seq=1 time=52.77 ms\n",
      "Reply from 1.1.1.1: seq=2 time=55.76 ms\n",
      "Summary:\n",
      "  Sent:     3\n",
      "  Received: 3\n",
      "  Loss %:   0.0\n",
      "  Total time: 31631µs\n",
      "  RTT ms:   min=52.51, avg=53.68, max=55.76\n"
     ]
    }
   ],
   "execution_count": 30
  },
  {
   "metadata": {},
   "cell_type": "markdown",
   "source": "",
   "id": "e7793ee751cfb3e1"
  },
  {
   "metadata": {},
   "cell_type": "markdown",
   "source": [
    "## Traceroute\n",
    "Root priviledges required."
   ],
   "id": "5df2376c5317f461"
  },
  {
   "metadata": {
    "ExecuteTime": {
     "end_time": "2025-05-28T16:54:03.481124Z",
     "start_time": "2025-05-28T16:54:03.373975Z"
    }
   },
   "cell_type": "code",
   "source": [
    "from webutils.network.icmp.traceroute import Traceroute\n",
    "\n",
    "print(\"\\n=== Traceroute Example ===\")\n",
    "\n",
    "# 1. Specify the target host (domain or IP)\n",
    "host = \"google.com\"\n",
    "\n",
    "# 2. Create a Traceroute instance\n",
    "#    - host:       the destination to trace routes to\n",
    "#    - packet_size: size in bytes of each ICMP packet payload\n",
    "#    - timeout:    maximum wait time in seconds for each hop reply\n",
    "t = Traceroute(destination=host, packet_size=64, timeout=1)\n",
    "\n",
    "# 3. Start the traceroute; returns a list of hop objects\n",
    "response = t.start()\n",
    "\n",
    "# 4. Iterate through each hop and print its details\n",
    "#    Each hop typically includes hop_number, address, and round-trip time\n",
    "for hop in response:\n",
    "    print(f\"Hop {hop.hop_number:2d}: {hop.address} – RTT {hop.rtt} ms\")\n"
   ],
   "id": "4eb6474bb5d0e878",
   "outputs": [
    {
     "name": "stdout",
     "output_type": "stream",
     "text": [
      "\n",
      "=== Traceroute Example ===\n",
      "Traceroute to google.com [142.250.179.142], 30 hops max:\n",
      "Error: [Errno 1] Operation not permitted\n"
     ]
    }
   ],
   "execution_count": 3
  },
  {
   "metadata": {},
   "cell_type": "markdown",
   "source": "",
   "id": "237e1f9a9faa6305"
  },
  {
   "metadata": {},
   "cell_type": "markdown",
   "source": "## DNS Lookup",
   "id": "4a4d28e0e3886d9f"
  },
  {
   "metadata": {
    "ExecuteTime": {
     "end_time": "2025-05-28T16:54:31.035093Z",
     "start_time": "2025-05-28T16:54:31.030271Z"
    }
   },
   "cell_type": "code",
   "source": [
    "from webutils.network.dns.dns_lookup import DnsLookup\n",
    "\n",
    "print(\"\\n=== DNS Lookup Example ===\")\n",
    "\n",
    "# 1. Specify the domain or IP address to resolve\n",
    "host = \"yandex.ru\"\n",
    "\n",
    "# 2. Create a DnsLookup instance\n",
    "#    - domain: the target hostname or IP for the DNS query\n",
    "#    - timeout: maximum wait time in seconds for the DNS response\n",
    "dns = DnsLookup(domain=host, timeout=1)\n",
    "\n",
    "# 3. Execute the lookup; returns a result object containing all answers\n",
    "result = dns.start()\n",
    "\n",
    "# 4. Loop through the list of returned addresses and print each one\n",
    "for addr in result.addresses:\n",
    "    print(f\"Address: {addr}\")\n"
   ],
   "id": "21c29ab369f0fd0c",
   "outputs": [
    {
     "name": "stdout",
     "output_type": "stream",
     "text": [
      "\n",
      "=== DNS Lookup Example ===\n",
      "Address: 77.88.55.88\n",
      "Address: 5.255.255.77\n",
      "Address: 77.88.44.55\n"
     ]
    }
   ],
   "execution_count": 4
  },
  {
   "metadata": {},
   "cell_type": "markdown",
   "source": "",
   "id": "f7de91ea86aa5fdf"
  },
  {
   "metadata": {},
   "cell_type": "markdown",
   "source": "## Speedtest",
   "id": "c8a40c8ffc5a284c"
  },
  {
   "metadata": {
    "ExecuteTime": {
     "end_time": "2025-05-28T17:18:50.394316Z",
     "start_time": "2025-05-28T17:18:31.287400Z"
    }
   },
   "cell_type": "code",
   "source": [
    "from webutils.network.speedtest.speed_test import Speedtest\n",
    "\n",
    "print(\"\\n=== Speedtest Example ===\")\n",
    "\n",
    "# 1. Initialize the Speedtest client  \n",
    "#    Creates a tester object that can perform download and upload measurements  \n",
    "st = Speedtest()\n",
    "\n",
    "# 2. Download test  \n",
    "#    - download_url: URL of a large file used to measure download throughput  \n",
    "download_url = \"http://cachefly.cachefly.net/100mb.test\"  \n",
    "download_bps = st.test_download(download_url)  \n",
    "print(\"Download speed:\", st.format_speed(download_bps))  \n",
    "\n",
    "# 3. Upload test  \n",
    "#    - upload_host: target hostname for the upload test  \n",
    "#    - upload_path: endpoint on that host accepting the uploaded data  \n",
    "#    - duration: duration in seconds to stream data for the test  \n",
    "upload_host = \"filebin.net\"  \n",
    "upload_path = \"/pytest/file\"  \n",
    "upload_bps = st.test_upload(upload_host, upload_path, duration=10)  \n",
    "print(\"Upload speed:\", st.format_speed(upload_bps))\n"
   ],
   "id": "4b4d282c31afdb9",
   "outputs": [
    {
     "name": "stdout",
     "output_type": "stream",
     "text": [
      "\n",
      "=== Speedtest Example ===\n",
      "Download speed: 92.61 Mbps\n",
      "Upload speed: 56.87 Mbps\n"
     ]
    }
   ],
   "execution_count": 16
  },
  {
   "metadata": {},
   "cell_type": "markdown",
   "source": "",
   "id": "dafbde4d8f8cb28a"
  },
  {
   "metadata": {},
   "cell_type": "markdown",
   "source": "## QR Code Generation & Reading",
   "id": "8997310578399271"
  },
  {
   "metadata": {
    "ExecuteTime": {
     "end_time": "2025-05-28T17:33:52.035350Z",
     "start_time": "2025-05-28T17:33:51.743417Z"
    }
   },
   "cell_type": "code",
   "source": [
    "from webutils.qr.qr_generator import QRCodeGenerator\n",
    "from webutils.qr.qr_reader import QRCodeReader\n",
    "from IPython.display import Image, display\n",
    "\n",
    "print(\"\\n=== QR Code Generation & Reading Example ===\")\n",
    "\n",
    "# 1. Initialize the QR code generator\n",
    "generator = QRCodeGenerator()\n",
    "\n",
    "# 2. The text or URL to encode into the QR code\n",
    "text_to_encode = \"https://github.com/pukhovkirill/web-utils\"\n",
    "\n",
    "# 3. Generate the QR code image and save it to \"out.png\"\n",
    "#    - The default scale factor applies unless overridden\n",
    "generator.generate(text_to_encode, output_path=\"out.png\")\n",
    "display(Image(\"out.png\"))\n",
    "\n",
    "# 4. Initialize the QR code reader\n",
    "reader = QRCodeReader()\n",
    "\n",
    "# 5. Read (decode) all QR codes found in the image file\n",
    "decoded_codes = reader.read(\"out.png\")\n",
    "\n",
    "# 6. Print the last decoded string (useful if multiple codes are present)\n",
    "print(decoded_codes[-1])\n"
   ],
   "id": "660c590f2ca2708b",
   "outputs": [
    {
     "name": "stdout",
     "output_type": "stream",
     "text": [
      "\n",
      "=== QR Code Generation & Reading Example ===\n"
     ]
    },
    {
     "data": {
      "image/png": "[encoded data removed]",
      "text/plain": [
       "<IPython.core.display.Image object>"
      ]
     },
     "metadata": {},
     "output_type": "display_data"
    },
    {
     "name": "stdout",
     "output_type": "stream",
     "text": [
      "https://github.com/pukhovkirill/web-utils\n"
     ]
    }
   ],
   "execution_count": 1
  },
  {
   "metadata": {},
   "cell_type": "markdown",
   "source": "",
   "id": "e3ec7a721da7a7b3"
  },
  {
   "metadata": {},
   "cell_type": "markdown",
   "source": "## Web Scraper",
   "id": "b631cc389644b29a"
  },
  {
   "metadata": {
    "ExecuteTime": {
     "end_time": "2025-05-28T17:10:15.057739Z",
     "start_time": "2025-05-28T17:10:13.957202Z"
    }
   },
   "cell_type": "code",
   "source": [
    "from webutils.parser import WebScraper, Writer\n",
    "from typing import Any, Dict, List\n",
    "\n",
    "print(\"\\n=== Web Scraper Example ===\")\n",
    "\n",
    "# CustomWriter implements the Writer interface by printing scraped data to the console\n",
    "class CustomWriter(Writer):\n",
    "    def write(self, data: List[Dict[str, Any]], filename: str) -> None:\n",
    "        \"\"\"\n",
    "        Write a list of dictionaries to the specified file.\n",
    "\n",
    "        :param data: List of dicts representing the data to write.\n",
    "        :param filename: The target filename.\n",
    "        \"\"\"\n",
    "        # For now, just output the data to stdout instead of writing a file\n",
    "        print(f\"Writing data to {filename}:\")\n",
    "        for record in data:\n",
    "            print(record)\n",
    "\n",
    "# 1. Create a WebScraper instance, passing in our CustomWriter\n",
    "scraper = WebScraper(CustomWriter())\n",
    "\n",
    "# 2. Specify the page to scrape\n",
    "url = \"https://github.com/pukhovkirill/web-utils\"\n",
    "\n",
    "# 3. Fetch the HTML content from the URL\n",
    "scraper.fetch(url)\n",
    "\n",
    "# 4. Parse the fetched HTML:\n",
    "#    - 'selector' locates each item container on the page\n",
    "#    - 'mapping' tells the scraper which sub-elements to extract within each container\n",
    "scraper.parse(\n",
    "    selector=\".Box-sc-g0xbh4-0\",                    # CSS selector for each repo box\n",
    "    mapping={\"div\": \".react-directory-truncate\"}    # within each box, select <div> elements with this class\n",
    ")\n",
    "\n",
    "# 5. Save the parsed data:\n",
    "#    This will invoke CustomWriter.write(data, \"repos.json\"),\n",
    "#    printing each record and the filename.\n",
    "scraper.save(\"repos.json\")\n"
   ],
   "id": "173be27d56fa34d6",
   "outputs": [
    {
     "name": "stdout",
     "output_type": "stream",
     "text": [
      "\n",
      "=== Web Scraper Example ===\n",
      "Writing data to repos.json:\n",
      "{'div': []}\n",
      "{'div': []}\n",
      "{'div': []}\n",
      "{'div': []}\n",
      "{'div': []}\n",
      "{'div': []}\n",
      "{'div': []}\n",
      "{'div': []}\n",
      "{'div': []}\n",
      "{'div': ['email_utils', 'email_utils', 'network', 'network', 'qr', 'qr', 'tests', 'tests', '.gitignore', '.gitignore', 'LICENSE', 'LICENSE', 'README.md', 'README.md', '__init__.py', '__init__.py', 'main.py', 'main.py', 'requirements.txt', 'requirements.txt']}\n",
      "{'div': []}\n",
      "{'div': []}\n",
      "{'div': []}\n",
      "{'div': []}\n",
      "{'div': []}\n",
      "{'div': []}\n",
      "{'div': []}\n",
      "{'div': []}\n",
      "{'div': []}\n",
      "{'div': []}\n",
      "{'div': []}\n",
      "{'div': []}\n"
     ]
    }
   ],
   "execution_count": 15
  },
  {
   "metadata": {},
   "cell_type": "code",
   "source": "",
   "id": "81b33ed65d8847d2",
   "outputs": [],
   "execution_count": null
  }
 ],
 "metadata": {
  "kernelspec": {
   "display_name": "Python 3",
   "language": "python",
   "name": "python3"
  },
  "language_info": {
   "codemirror_mode": {
    "name": "ipython",
    "version": 2
   },
   "file_extension": ".py",
   "mimetype": "text/x-python",
   "name": "python",
   "nbconvert_exporter": "python",
   "pygments_lexer": "ipython2",
   "version": "2.7.6"
  }
 },
 "nbformat": 4,
 "nbformat_minor": 5
}
